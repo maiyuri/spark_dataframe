{
  "nbformat": 4,
  "nbformat_minor": 0,
  "metadata": {
    "colab": {
      "provenance": []
    },
    "kernelspec": {
      "name": "python3",
      "display_name": "Python 3"
    },
    "language_info": {
      "name": "python"
    }
  },
  "cells": [
    {
      "cell_type": "code",
      "execution_count": 29,
      "metadata": {
        "colab": {
          "base_uri": "https://localhost:8080/"
        },
        "id": "5Dy8e1edAeup",
        "outputId": "02712f51-ac60-41d0-ebf4-2978592c0398"
      },
      "outputs": [
        {
          "output_type": "stream",
          "name": "stdout",
          "text": [
            "Looking in indexes: https://pypi.org/simple, https://us-python.pkg.dev/colab-wheels/public/simple/\n",
            "Requirement already satisfied: pyspark in /usr/local/lib/python3.8/dist-packages (3.3.1)\n",
            "Requirement already satisfied: findspark in /usr/local/lib/python3.8/dist-packages (2.0.1)\n",
            "Requirement already satisfied: py4j==0.10.9.5 in /usr/local/lib/python3.8/dist-packages (from pyspark) (0.10.9.5)\n",
            "Looking in indexes: https://pypi.org/simple, https://us-python.pkg.dev/colab-wheels/public/simple/\n",
            "Requirement already satisfied: pybtex in /usr/local/lib/python3.8/dist-packages (0.24.0)\n",
            "Requirement already satisfied: PyYAML>=3.01 in /usr/local/lib/python3.8/dist-packages (from pybtex) (6.0)\n",
            "Requirement already satisfied: six in /usr/local/lib/python3.8/dist-packages (from pybtex) (1.15.0)\n",
            "Requirement already satisfied: latexcodec>=1.0.4 in /usr/local/lib/python3.8/dist-packages (from pybtex) (2.0.1)\n"
          ]
        }
      ],
      "source": [
        "!pip install pyspark findspark\n",
        "\n",
        "!pip install pybtex"
      ]
    },
    {
      "cell_type": "markdown",
      "source": [
        "#Leitura das bibliotecas"
      ],
      "metadata": {
        "id": "3jUPGAmJ7zXJ"
      }
    },
    {
      "cell_type": "code",
      "source": [
        "from google.colab import files\n",
        "import findspark\n",
        "from pyspark.sql import SparkSession \n",
        "import os\n",
        "import re\n",
        "import hashlib\n",
        "import yaml\n",
        "import json\n",
        "import csv\n",
        "import requests\n",
        "from numpy import nan\n",
        "from pybtex.database.input import bibtex\n",
        "from pybtex.database import BibliographyData, Entry\n",
        "from unicodedata import normalize\n",
        "from pyspark.sql import SparkSession\n",
        "from pyspark.sql.functions import *\n",
        "from pyspark.sql.types import *\n",
        "from pyspark.sql.window import Window\n",
        "import math\n",
        "import random\n",
        "import numpy as np\n",
        "from google.colab import drive \n",
        "\n",
        "spark = SparkSession.builder.appName('SparkRDDExamples').getOrCreate()\n",
        "\n",
        "\n",
        "\n",
        "drive.mount('/content/drive')\n",
        "\n",
        "\n"
      ],
      "metadata": {
        "colab": {
          "base_uri": "https://localhost:8080/"
        },
        "id": "ggv7rJTlAmKP",
        "outputId": "a140df27-d474-45e8-803b-b33f6cf726bd"
      },
      "execution_count": 30,
      "outputs": [
        {
          "output_type": "stream",
          "name": "stdout",
          "text": [
            "Drive already mounted at /content/drive; to attempt to forcibly remount, call drive.mount(\"/content/drive\", force_remount=True).\n"
          ]
        }
      ]
    },
    {
      "cell_type": "markdown",
      "source": [
        "# Leitura dos arquivos csv"
      ],
      "metadata": {
        "id": "ygzQbjtd77Z5"
      }
    },
    {
      "cell_type": "code",
      "source": [
        "arquivo_bib = spark.read\\\n",
        ".option(\"header\", True)\\\n",
        ".option(\"sep\",\"§\" )\\\n",
        ".csv(\"/content/drive/MyDrive/Trabalho_Pyspark/output.csv\")"
      ],
      "metadata": {
        "id": "qoEyYbIgzRv2"
      },
      "execution_count": 31,
      "outputs": []
    },
    {
      "cell_type": "code",
      "source": [
        "jsc = spark.read\\\n",
        ".option(\"header\", True)\\\n",
        ".option(\"sep\",\";\" )\\\n",
        ".csv(\"/content/drive/MyDrive/Trabalho_Pyspark/jcs_2020.csv\")"
      ],
      "metadata": {
        "id": "UurvCh9Y6ZLy"
      },
      "execution_count": 32,
      "outputs": []
    },
    {
      "cell_type": "code",
      "source": [
        "scimagojr = spark.read\\\n",
        ".option(\"header\", True)\\\n",
        ".option(\"sep\",\";\" )\\\n",
        ".csv(\"/content/drive/MyDrive/Trabalho_Pyspark/scimagojr 2020.csv\")"
      ],
      "metadata": {
        "id": "48bD4CuB8M5x"
      },
      "execution_count": 33,
      "outputs": []
    },
    {
      "cell_type": "code",
      "source": [
        "arquivo_bib.count()"
      ],
      "metadata": {
        "colab": {
          "base_uri": "https://localhost:8080/"
        },
        "id": "p9uAntUPQP9o",
        "outputId": "7daa4f2f-3cb5-4020-cc7d-7cfe35faccfa"
      },
      "execution_count": 34,
      "outputs": [
        {
          "output_type": "execute_result",
          "data": {
            "text/plain": [
              "6031"
            ]
          },
          "metadata": {},
          "execution_count": 34
        }
      ]
    },
    {
      "cell_type": "code",
      "source": [
        "arquivo_bib.show()\n"
      ],
      "metadata": {
        "colab": {
          "base_uri": "https://localhost:8080/"
        },
        "id": "RPlKT9Go8txR",
        "outputId": "abed5c02-ab09-4d79-9f9f-f05bceb2c08b"
      },
      "execution_count": 35,
      "outputs": [
        {
          "output_type": "stream",
          "name": "stdout",
          "text": [
            "+---+--------------------+-----------------+--------------------+---------+--------------+--------------------+-----+------+--------+---------+--------------------+--------------------+--------------------+------+----+--------------------+-------------+--------------------+--------------------+----------+---------+----+-------+----------------+--------------------+\n",
            "|_c0|            abstract|          address|                 doi|     issn|    issue_date|             journal|month|number|numpages|    pages|           publisher|               title|                 url|volume|year|           booktitle|         isbn|            keywords|            location|    series|articleno|note|edition|type_publication|              author|\n",
            "+---+--------------------+-----------------+--------------------+---------+--------------+--------------------+-----+------+--------+---------+--------------------+--------------------+--------------------+------+----+--------------------+-------------+--------------------+--------------------+----------+---------+----+-------+----------------+--------------------+\n",
            "|  0|Cyber-physical sy...|New York, NY, USA|10.1145/3502771.3...|0163-5948|  January 2022|SIGSOFT Softw. En...|  jan|     1|       4|    26–29|Association for C...|Software Engineer...|https://doi.org/1...|    47|2022|                null|         null|                ['']|                null|      null|     null|null|   null|         article|['Nguyen, Phu', '...|\n",
            "|  1|For big data, dat...|New York, NY, USA|10.1145/2935694.2...|0163-5808| December 2015|         SIGMOD Rec.|  may|     4|       6|    35–40|Association for C...|Cleanix: A Parall...|https://doi.org/1...|    44|2016|                null|         null|                ['']|                null|      null|     null|null|   null|         article|['Wang, Hongzhi',...|\n",
            "|  2|\"Current big data...|New York, NY, USA|10.1145/2627770.2...|     null|          null|                null| null|  null|       4|      1–4|Association for C...|\"\"\"Big Metadata\"\"...|https://doi.org/1...|  null|2014|Proceedings of Wo...|9781450329972|['Big data analyt...|   Snowbird, UT, USA|  DanaC'14|     null|null|   null|   inproceedings|['Smith, Ken', 'S...|\n",
            "|  3|                null|New York, NY, USA|     10.1145/3005395|1936-1955| November 2016|J. Data and Infor...|  nov|     1|       3|     null|Association for C...|Editorial: Specia...|https://doi.org/1...|     8|2016|                null|         null|                ['']|                null|      null|        1|null|   null|         article|['Bizer, Christia...|\n",
            "|  4|Data cleansing ap...|New York, NY, USA|10.1145/2723372.2...|     null|          null|                null| null|  null|      16|1215–1230|Association for C...|BigDansing: A Sys...|https://doi.org/1...|  null|2015|Proceedings of th...|9781450327589|['distributed dat...|Melbourne, Victor...|SIGMOD '15|     null|null|   null|   inproceedings|\"['Khayyat, Zuhai...|\n",
            "|  5|We overview CiteS...|New York, NY, USA|10.1145/3359115.3...|     null|          null|                null| null|  null|       4|     null|Association for C...|CiteSeerX: 20 Yea...|https://doi.org/1...|  null|2019|Proceedings of th...|9781450371841|['scholarly big d...|Pittsburgh, Penns...|  AIDR '19|        1|null|   null|   inproceedings|['Wu, Jian', 'Kim...|\n",
            "|  6|Data quality asse...|             null|10.14778/3503585....|2150-8097| December 2021|   Proc. VLDB Endow.|  apr|     4|       9|  949–957|      VLDB Endowment|DQDF: Data-Qualit...|https://doi.org/1...|    15|2022|                null|         null|                ['']|                null|      null|     null|null|   null|         article|['Sinthong, Phanw...|\n",
            "|  7|Under the backgro...|New York, NY, USA|10.1145/3495018.3...|     null|          null|                null| null|  null|       4|2605–2608|Association for C...|Computer Assisted...|https://doi.org/1...|  null|2022|2021 3rd Internat...|9781450385046|                ['']|Manchester, Unite...|  AIAM2021|     null|null|   null|   inproceedings|       ['Tang, Yan']|\n",
            "|  8|Simulation of Sup...|             null|                null|     null|          null|                null| null|  null|      12|  548–559|          IEEE Press|Real-Time Supply ...|                null|  null|2020|Proceedings of th...|9781728132839|                ['']|National Harbor, ...|   WSC '19|     null|null|   null|   inproceedings|\"[\"\"Vieira, Ant\\\\...|\n",
            "|  9|Data mining is an...|New York, NY, USA|10.1145/3291801.3...|     null|          null|                null| null|  null|       4|    86–89|Association for C...|Application of La...|https://doi.org/1...|  null|2018|Proceedings of th...|9781450364768|['college student...|       Weihai, China|ICBDR 2018|     null|null|   null|   inproceedings|      ['Deze, Wang']|\n",
            "| 10|                null|New York, NY, USA|     10.1145/3174791|1936-1955|September 2017|J. Data and Infor...|  mar|     3|       2|     null|Association for C...|Editorial: Specia...|https://doi.org/1...|     9|2018|                null|         null|                ['']|                null|      null|       13|null|   null|         article|['Geerts, Floris'...|\n",
            "| 11|                null|New York, NY, USA|     10.1145/3423321|1936-1955| December 2020|J. Data and Infor...|  oct|     4|       2|     null|Association for C...|Editorial: Specia...|https://doi.org/1...|    12|2020|                null|         null|                ['']|                null|      null|       17|null|   null|         article|['Polese, Giusepp...|\n",
            "| 12|We are inundated ...|New York, NY, USA|10.1145/3010089.3...|     null|          null|                null| null|  null|      11|     null|Association for C...|TAF: Temporal Ana...|https://doi.org/1...|  null|2016|Proceedings of th...|9781450347792|['Real-Time Analy...|Blagoevgrad, Bulg...|  BDAW '16|       10|null|   null|   inproceedings|['Sindhu, C.', 'H...|\n",
            "| 13|\"Credit risk is o...|New York, NY, USA|10.1145/3386723.3...|     null|          null|                null| null|  null|       7|     null|Association for C...|CSMAS: Improving ...|https://doi.org/1...|  null|2020|Proceedings of th...|9781450376341|['XgBoost, Credit...|  Marrakech, Morocco|  NISS2020|       32|null|   null|   inproceedings|['Tounsi, Youssef...|\n",
            "| 14|As the Internet-o...|             null|10.14778/3137765....|2150-8097|   August 2017|   Proc. VLDB Endow.|  aug|    12|      12|1766–1777|      VLDB Endowment|CarStream: An Ind...|https://doi.org/1...|    10|2017|                null|         null|                ['']|                null|      null|     null|null|   null|         article|['Zhang, Mingming...|\n",
            "| 15|In Big data era, ...|New York, NY, USA|10.1145/3090354.3...|     null|          null|                null| null|  null|       7|     null|Association for C...|Data Collect Requ...|https://doi.org/1...|  null|2017|Proceedings of th...|9781450348522|['Collect system,...|    Tetouan, Morocco|   BDCA'17|        4|null|   null|   inproceedings|['Tikito, I.', 'S...|\n",
            "| 16|With the developm...|New York, NY, USA|10.1145/3561801.3...|     null|          null|                null| null|  null|       5|    77–81|Association for C...|A Data Cleaning M...|https://doi.org/1...|  null|2022|Proceedings of th...|9781450390361|['Data cleaning. ...|    Chongqing, China| BDIOT '22|     null|null|   null|   inproceedings|['Zhang, Cheng', ...|\n",
            "| 17|Most existing sys...|New York, NY, USA|10.1145/3220199.3...|     null|          null|                null| null|  null|       6|    38–43|Association for C...|Multi: Source Dat...|https://doi.org/1...|  null|2018|Proceedings of th...|9781450364263|['Data quality, D...|     Shenzhen, China| ICBDC '18|     null|null|   null|   inproceedings|['Xie, Dingding',...|\n",
            "| 18|As massive data a...|             null|10.14778/1687553....|2150-8097|   August 2009|   Proc. VLDB Endow.|  aug|     2|      12|1481–1492|      VLDB Endowment|MAD Skills: New A...|https://doi.org/1...|     2|2009|                null|         null|                ['']|                null|      null|     null|null|   null|         article|['Cohen, Jeffrey'...|\n",
            "| 19|                null|New York, NY, USA|10.1145/2767109.2...|     null|          null|                null| null|  null|       5|      1–5|Association for C...|The Elephant in t...|https://doi.org/1...|  null|2015|Proceedings of th...|9781450336277|                ['']|Melbourne, VIC, A...|  WebDB'15|     null|null|   null|   inproceedings|['Abiteboul, Serg...|\n",
            "+---+--------------------+-----------------+--------------------+---------+--------------+--------------------+-----+------+--------+---------+--------------------+--------------------+--------------------+------+----+--------------------+-------------+--------------------+--------------------+----------+---------+----+-------+----------------+--------------------+\n",
            "only showing top 20 rows\n",
            "\n"
          ]
        }
      ]
    },
    {
      "cell_type": "code",
      "source": [
        "scimagojr.show()"
      ],
      "metadata": {
        "colab": {
          "base_uri": "https://localhost:8080/"
        },
        "id": "bu8T0JbiUil1",
        "outputId": "52f94eea-7462-41cd-f77f-2e05f480e3af"
      },
      "execution_count": 36,
      "outputs": [
        {
          "output_type": "stream",
          "name": "stdout",
          "text": [
            "+----+-----------+--------------------+-------+------------------+------+-----------------+-------+------------------+--------------------+-----------+--------------------+----------------------+---------------------+-----------+--------------+----------------+--------------------+--------------------+--------------------+\n",
            "|Rank|   Sourceid|               Title|   Type|              Issn|   SJR|SJR Best Quartile|H index|Total Docs. (2020)|Total Docs. (3years)|Total Refs.|Total Cites (3years)|Citable Docs. (3years)|Cites / Doc. (2years)|Ref. / Doc.|       Country|          Region|           Publisher|            Coverage|          Categories|\n",
            "+----+-----------+--------------------+-------+------------------+------+-----------------+-------+------------------+--------------------+-----------+--------------------+----------------------+---------------------+-----------+--------------+----------------+--------------------+--------------------+--------------------+\n",
            "|   1|      28773|Ca-A Cancer Journ...|journal|15424863, 00079235|62,937|               Q1|    168|                47|                 119|       3452|               15499|                    80|               126,34|      73,45| United States|Northern America|     Wiley-Blackwell|           1950-2020|Hematology (Q1); ...|\n",
            "|   2|      19434|MMWR Recommendati...|journal|10575987, 15458601|40,949|               Q1|    143|                10|                   9|       1292|                 492|                     9|                50,00|     129,20| United States|Northern America|Centers for Disea...|           1990-2020|Epidemiology (Q1)...|\n",
            "|   3|      20315|Nature Reviews Mo...|journal|14710072, 14710080|37,461|               Q1|    431|               115|                 338|       8439|               10844|                   167|                32,83|      73,38|United Kingdom|  Western Europe|Nature Publishing...|           2000-2020|Cell Biology (Q1)...|\n",
            "|   4|      29431|Quarterly Journal...|journal|00335533, 15314650|34,573|               Q1|    259|                40|                 110|       2733|                1945|                   109|                16,00|      68,33|United Kingdom|  Western Europe|Oxford University...|           1886-2020|Economics and Eco...|\n",
            "|   5|21100812243|Nature Reviews Ma...|journal|          20588437|32,011|               Q1|    108|                92|                 264|      10632|               11188|                   138|                32,15|     115,57|United Kingdom|  Western Europe|Nature Publishing...|           2016-2020|Biomaterials (Q1)...|\n",
            "|   6|      58530|National vital st...|journal|15518922, 15518930|28,083|               Q1|    100|                12|                  34|        211|                1225|                    34|                36,00|      17,58| United States|Northern America|Public Health Ser...|           1998-2020|Life-span and Lif...|\n",
            "|   7|      18434|                Cell|journal|00928674, 10974172|26,304|               Q1|    776|               572|                1690|      35345|               52644|                  1563|                28,45|      61,79| United States|Northern America|          Cell Press|           1974-2020|Biochemistry, Gen...|\n",
            "|   8|      18991|Nature Reviews Ge...|journal|14710056, 14710064|26,214|               Q1|    365|               106|                 325|       7332|                6348|                   149|                21,22|      69,17|United Kingdom|  Western Europe|Nature Publishing...|           2000-2020|Genetics (Q1); Ge...|\n",
            "|   9|      29719|Reviews of Modern...|journal|00346861, 15390756|24,877|               Q1|    363|                34|                 124|       9662|               10251|                   120|                85,73|     284,18| United States|Northern America|American Physical...|           1929-2020|Physics and Astro...|\n",
            "|  10|      24404|Journal of Politi...|journal|00223808, 1537534X|21,034|               Q1|    186|               104|                 217|       5807|                1773|                   176|                 8,70|      55,84| United States|Northern America|University of Chi...|1969, 1973-1974, ...|Economics and Eco...|\n",
            "|  11|      21318|Nature Reviews Im...|journal|14741741, 14741733|20,529|               Q1|    390|               230|                 436|       9421|                8200|                   202|                17,33|      40,96|United Kingdom|  Western Europe|Nature Publishing...|           2001-2020|Immunology (Q1); ...|\n",
            "|  12|      23340|    Chemical Reviews|journal|15206890, 00092665|20,528|               Q1|    700|               283|                 738|     115486|               41703|                   703|                53,93|     408,08| United States|Northern America|American Chemical...|           1924-2020|Chemistry (miscel...|\n",
            "|  13|      71056|MMWR. Surveillanc...|journal|15458636, 15460738|19,961|               Q1|    100|                32|                  48|        499|                2235|                    48|                57,77|      15,59| United States|Northern America|Centers for Disea...|           2002-2020|Epidemiology (Q1)...|\n",
            "|  14|      15847|New England Journ...|journal|00284793, 15334406|19,889|               Q1|   1030|              1671|                4312|      15715|               82469|                  1842|                19,08|       9,40| United States|Northern America|Massachussetts Me...|           1945-2020|Medicine (miscell...|\n",
            "|  15|21100812579|       Nature Energy|journal|          20587546|19,733|               Q1|    129|               201|                 602|       5672|               15766|                   384|                25,94|      28,22| United States|Northern America|     Springer Nature|           2016-2020|Electronic, Optic...|\n",
            "|  16|      12464|Nature Reviews Ca...|journal|1474175X, 14741768|19,575|               Q1|    442|                85|                 373|       8894|                9077|                   202|                18,10|     104,64|United Kingdom|  Western Europe|Nature Publishing...|           2001-2020|Cancer Research (...|\n",
            "|  17|      15819|     Nature Medicine|journal|1546170X, 10788956|19,536|               Q1|    547|               452|                 953|      10601|               22548|                   664|                23,52|      23,45|United Kingdom|  Western Europe|Nature Publishing...|           1995-2020|Biochemistry, Gen...|\n",
            "|  18|21100778827|      Nature Methods|journal|15487091, 15487105|19,469|               Q1|    318|               331|                 999|       6602|               16032|                   649|                10,93|      19,95|United Kingdom|  Western Europe|Nature Publishing...|           2004-2020|Biochemistry (Q1)...|\n",
            "|  19|      18990|     Nature Genetics|journal|10614036, 15461718|18,861|               Q1|    573|               189|                 756|       9059|               17158|                   608|                23,10|      47,93|United Kingdom|  Western Europe|Nature Publishing...|           1992-2020|       Genetics (Q1)|\n",
            "|  20|19900191906|Academy of Manage...|journal|19416520, 19416067|18,318|               Q1|     73|                31|                  76|       7077|                1648|                    75|                16,43|     228,29| United States|Northern America|Academy of Manage...|           2010-2020|Business and Inte...|\n",
            "+----+-----------+--------------------+-------+------------------+------+-----------------+-------+------------------+--------------------+-----------+--------------------+----------------------+---------------------+-----------+--------------+----------------+--------------------+--------------------+--------------------+\n",
            "only showing top 20 rows\n",
            "\n"
          ]
        }
      ]
    },
    {
      "cell_type": "code",
      "source": [
        "jsc.show()"
      ],
      "metadata": {
        "colab": {
          "base_uri": "https://localhost:8080/"
        },
        "id": "yatkjpvk-5ta",
        "outputId": "e009625a-d7d2-4b4f-c748-52d590329301"
      },
      "execution_count": 37,
      "outputs": [
        {
          "output_type": "stream",
          "name": "stdout",
          "text": [
            "+----+--------------------+-----------+----+---------------------+-----------------+----+----+\n",
            "|Rank|  Full Journal Title|Total Cites| _c3|Journal Impact Factor|Eigenfactor Score| _c6| _c7|\n",
            "+----+--------------------+-----------+----+---------------------+-----------------+----+----+\n",
            "|   1|CA-A CANCER JOURN...|     55,868|null|              508.702|         0.105140|null|null|\n",
            "|   2|NATURE REVIEWS MO...|     58,477|null|               94.444|         0.075480|null|null|\n",
            "|   3|NEW ENGLAND JOURN...|    464,351|null|               91.245|         0.631180|null|null|\n",
            "|   4|NATURE REVIEWS DR...|     41,989|null|               84.694|         0.048220|null|null|\n",
            "|   5|              LANCET|    369,601|null|               79.321|         0.445240|null|null|\n",
            "|   6|Nature Reviews Cl...|     17,973|null|               66.675|         0.038760|null|null|\n",
            "|   7|Nature Reviews Ma...|     19,887|null|               66.308|         0.056770|null|null|\n",
            "|   8|       Nature Energy|     28,166|null|               60.858|         0.080070|null|null|\n",
            "|   9|NATURE REVIEWS CA...|     62,391|null|               60.716|         0.059170|null|null|\n",
            "|  10|NATURE REVIEWS MI...|     43,313|null|               60.633|         0.054150|null|null|\n",
            "|  11|    CHEMICAL REVIEWS|    224,417|null|               60.622|         0.216180|null|null|\n",
            "|  12|MMWR Surveillance...|      3,806|null|               58.769|         0.012980|null|null|\n",
            "|  13|JAMA-JOURNAL OF T...|    224,147|null|               56.272|         0.279750|null|null|\n",
            "|  14|MMWR Recommendati...|      3,288|null|               55.857|         0.011230|null|null|\n",
            "|  15|NATURE BIOTECHNOLOGY|     78,786|null|               54.908|         0.145670|null|null|\n",
            "|  16|CHEMICAL SOCIETY ...|    173,170|null|               54.564|         0.176570|null|null|\n",
            "|  17|REVIEWS OF MODERN...|     58,097|null|               54.494|         0.045060|null|null|\n",
            "|  18|     NATURE MEDICINE|    114,401|null|               53.440|         0.184050|null|null|\n",
            "|  19|NATURE REVIEWS GE...|     42,803|null|               53.242|         0.058930|null|null|\n",
            "|  20|NATURE REVIEWS IM...|     55,784|null|               53.106|         0.063920|null|null|\n",
            "+----+--------------------+-----------+----+---------------------+-----------------+----+----+\n",
            "only showing top 20 rows\n",
            "\n"
          ]
        }
      ]
    },
    {
      "cell_type": "code",
      "source": [
        "scimagojr.show()"
      ],
      "metadata": {
        "colab": {
          "base_uri": "https://localhost:8080/"
        },
        "id": "JtNtRd-9-8Sh",
        "outputId": "1860e53a-f18a-4edc-c875-598e2d5c22ca"
      },
      "execution_count": 38,
      "outputs": [
        {
          "output_type": "stream",
          "name": "stdout",
          "text": [
            "+----+-----------+--------------------+-------+------------------+------+-----------------+-------+------------------+--------------------+-----------+--------------------+----------------------+---------------------+-----------+--------------+----------------+--------------------+--------------------+--------------------+\n",
            "|Rank|   Sourceid|               Title|   Type|              Issn|   SJR|SJR Best Quartile|H index|Total Docs. (2020)|Total Docs. (3years)|Total Refs.|Total Cites (3years)|Citable Docs. (3years)|Cites / Doc. (2years)|Ref. / Doc.|       Country|          Region|           Publisher|            Coverage|          Categories|\n",
            "+----+-----------+--------------------+-------+------------------+------+-----------------+-------+------------------+--------------------+-----------+--------------------+----------------------+---------------------+-----------+--------------+----------------+--------------------+--------------------+--------------------+\n",
            "|   1|      28773|Ca-A Cancer Journ...|journal|15424863, 00079235|62,937|               Q1|    168|                47|                 119|       3452|               15499|                    80|               126,34|      73,45| United States|Northern America|     Wiley-Blackwell|           1950-2020|Hematology (Q1); ...|\n",
            "|   2|      19434|MMWR Recommendati...|journal|10575987, 15458601|40,949|               Q1|    143|                10|                   9|       1292|                 492|                     9|                50,00|     129,20| United States|Northern America|Centers for Disea...|           1990-2020|Epidemiology (Q1)...|\n",
            "|   3|      20315|Nature Reviews Mo...|journal|14710072, 14710080|37,461|               Q1|    431|               115|                 338|       8439|               10844|                   167|                32,83|      73,38|United Kingdom|  Western Europe|Nature Publishing...|           2000-2020|Cell Biology (Q1)...|\n",
            "|   4|      29431|Quarterly Journal...|journal|00335533, 15314650|34,573|               Q1|    259|                40|                 110|       2733|                1945|                   109|                16,00|      68,33|United Kingdom|  Western Europe|Oxford University...|           1886-2020|Economics and Eco...|\n",
            "|   5|21100812243|Nature Reviews Ma...|journal|          20588437|32,011|               Q1|    108|                92|                 264|      10632|               11188|                   138|                32,15|     115,57|United Kingdom|  Western Europe|Nature Publishing...|           2016-2020|Biomaterials (Q1)...|\n",
            "|   6|      58530|National vital st...|journal|15518922, 15518930|28,083|               Q1|    100|                12|                  34|        211|                1225|                    34|                36,00|      17,58| United States|Northern America|Public Health Ser...|           1998-2020|Life-span and Lif...|\n",
            "|   7|      18434|                Cell|journal|00928674, 10974172|26,304|               Q1|    776|               572|                1690|      35345|               52644|                  1563|                28,45|      61,79| United States|Northern America|          Cell Press|           1974-2020|Biochemistry, Gen...|\n",
            "|   8|      18991|Nature Reviews Ge...|journal|14710056, 14710064|26,214|               Q1|    365|               106|                 325|       7332|                6348|                   149|                21,22|      69,17|United Kingdom|  Western Europe|Nature Publishing...|           2000-2020|Genetics (Q1); Ge...|\n",
            "|   9|      29719|Reviews of Modern...|journal|00346861, 15390756|24,877|               Q1|    363|                34|                 124|       9662|               10251|                   120|                85,73|     284,18| United States|Northern America|American Physical...|           1929-2020|Physics and Astro...|\n",
            "|  10|      24404|Journal of Politi...|journal|00223808, 1537534X|21,034|               Q1|    186|               104|                 217|       5807|                1773|                   176|                 8,70|      55,84| United States|Northern America|University of Chi...|1969, 1973-1974, ...|Economics and Eco...|\n",
            "|  11|      21318|Nature Reviews Im...|journal|14741741, 14741733|20,529|               Q1|    390|               230|                 436|       9421|                8200|                   202|                17,33|      40,96|United Kingdom|  Western Europe|Nature Publishing...|           2001-2020|Immunology (Q1); ...|\n",
            "|  12|      23340|    Chemical Reviews|journal|15206890, 00092665|20,528|               Q1|    700|               283|                 738|     115486|               41703|                   703|                53,93|     408,08| United States|Northern America|American Chemical...|           1924-2020|Chemistry (miscel...|\n",
            "|  13|      71056|MMWR. Surveillanc...|journal|15458636, 15460738|19,961|               Q1|    100|                32|                  48|        499|                2235|                    48|                57,77|      15,59| United States|Northern America|Centers for Disea...|           2002-2020|Epidemiology (Q1)...|\n",
            "|  14|      15847|New England Journ...|journal|00284793, 15334406|19,889|               Q1|   1030|              1671|                4312|      15715|               82469|                  1842|                19,08|       9,40| United States|Northern America|Massachussetts Me...|           1945-2020|Medicine (miscell...|\n",
            "|  15|21100812579|       Nature Energy|journal|          20587546|19,733|               Q1|    129|               201|                 602|       5672|               15766|                   384|                25,94|      28,22| United States|Northern America|     Springer Nature|           2016-2020|Electronic, Optic...|\n",
            "|  16|      12464|Nature Reviews Ca...|journal|1474175X, 14741768|19,575|               Q1|    442|                85|                 373|       8894|                9077|                   202|                18,10|     104,64|United Kingdom|  Western Europe|Nature Publishing...|           2001-2020|Cancer Research (...|\n",
            "|  17|      15819|     Nature Medicine|journal|1546170X, 10788956|19,536|               Q1|    547|               452|                 953|      10601|               22548|                   664|                23,52|      23,45|United Kingdom|  Western Europe|Nature Publishing...|           1995-2020|Biochemistry, Gen...|\n",
            "|  18|21100778827|      Nature Methods|journal|15487091, 15487105|19,469|               Q1|    318|               331|                 999|       6602|               16032|                   649|                10,93|      19,95|United Kingdom|  Western Europe|Nature Publishing...|           2004-2020|Biochemistry (Q1)...|\n",
            "|  19|      18990|     Nature Genetics|journal|10614036, 15461718|18,861|               Q1|    573|               189|                 756|       9059|               17158|                   608|                23,10|      47,93|United Kingdom|  Western Europe|Nature Publishing...|           1992-2020|       Genetics (Q1)|\n",
            "|  20|19900191906|Academy of Manage...|journal|19416520, 19416067|18,318|               Q1|     73|                31|                  76|       7077|                1648|                    75|                16,43|     228,29| United States|Northern America|Academy of Manage...|           2010-2020|Business and Inte...|\n",
            "+----+-----------+--------------------+-------+------------------+------+-----------------+-------+------------------+--------------------+-----------+--------------------+----------------------+---------------------+-----------+--------------+----------------+--------------------+--------------------+--------------------+\n",
            "only showing top 20 rows\n",
            "\n"
          ]
        }
      ]
    },
    {
      "cell_type": "markdown",
      "source": [
        "#Tratando as chaves dos arquivos"
      ],
      "metadata": {
        "id": "u1VHohfzBcHg"
      }
    },
    {
      "cell_type": "code",
      "source": [
        "scimagojr = scimagojr.withColumn('Title_Hash', sha1(scimagojr['Title']))\n",
        "scimagojr.show(truncate=False)"
      ],
      "metadata": {
        "colab": {
          "base_uri": "https://localhost:8080/"
        },
        "id": "4Bg8uND0GtIb",
        "outputId": "f0d819a8-5837-44ea-af0a-bc964e0bb8e5"
      },
      "execution_count": 39,
      "outputs": [
        {
          "output_type": "stream",
          "name": "stdout",
          "text": [
            "+----+-----------+----------------------------------------------------------------------------------------------------------------------------------------------------------------+-------+------------------+------+-----------------+-------+------------------+--------------------+-----------+--------------------+----------------------+---------------------+-----------+--------------+----------------+------------------------------------------------------------+-------------------------------------+------------------------------------------------------------------------------------------------------------------------------------------------------------------------------+----------------------------------------+\n",
            "|Rank|Sourceid   |Title                                                                                                                                                           |Type   |Issn              |SJR   |SJR Best Quartile|H index|Total Docs. (2020)|Total Docs. (3years)|Total Refs.|Total Cites (3years)|Citable Docs. (3years)|Cites / Doc. (2years)|Ref. / Doc.|Country       |Region          |Publisher                                                   |Coverage                             |Categories                                                                                                                                                                    |Title_Hash                              |\n",
            "+----+-----------+----------------------------------------------------------------------------------------------------------------------------------------------------------------+-------+------------------+------+-----------------+-------+------------------+--------------------+-----------+--------------------+----------------------+---------------------+-----------+--------------+----------------+------------------------------------------------------------+-------------------------------------+------------------------------------------------------------------------------------------------------------------------------------------------------------------------------+----------------------------------------+\n",
            "|1   |28773      |Ca-A Cancer Journal for Clinicians                                                                                                                              |journal|15424863, 00079235|62,937|Q1               |168    |47                |119                 |3452       |15499               |80                    |126,34               |73,45      |United States |Northern America|Wiley-Blackwell                                             |1950-2020                            |Hematology (Q1); Oncology (Q1)                                                                                                                                                |d19cdd0a0f594babb94fb5586979f52f69c18a55|\n",
            "|2   |19434      |MMWR Recommendations and Reports                                                                                                                                |journal|10575987, 15458601|40,949|Q1               |143    |10                |9                   |1292       |492                 |9                     |50,00                |129,20     |United States |Northern America|Centers for Disease Control and Prevention (CDC)            |1990-2020                            |Epidemiology (Q1); Health Information Management (Q1); Health (social science) (Q1); Health, Toxicology and Mutagenesis (Q1); Medicine (miscellaneous) (Q1)                   |02da9ae28b6ef3afb098fb13a9f165cdb108ad8e|\n",
            "|3   |20315      |Nature Reviews Molecular Cell Biology                                                                                                                           |journal|14710072, 14710080|37,461|Q1               |431    |115               |338                 |8439       |10844               |167                   |32,83                |73,38      |United Kingdom|Western Europe  |Nature Publishing Group                                     |2000-2020                            |Cell Biology (Q1); Molecular Biology (Q1)                                                                                                                                     |a250b32f115cc40e9f9a5f47a68180e954212892|\n",
            "|4   |29431      |Quarterly Journal of Economics                                                                                                                                  |journal|00335533, 15314650|34,573|Q1               |259    |40                |110                 |2733       |1945                |109                   |16,00                |68,33      |United Kingdom|Western Europe  |Oxford University Press                                     |1886-2020                            |Economics and Econometrics (Q1)                                                                                                                                               |91c44972ee06cff12dab0a1c56499cea7417ed5f|\n",
            "|5   |21100812243|Nature Reviews Materials                                                                                                                                        |journal|20588437          |32,011|Q1               |108    |92                |264                 |10632      |11188               |138                   |32,15                |115,57     |United Kingdom|Western Europe  |Nature Publishing Group                                     |2016-2020                            |Biomaterials (Q1); Electronic, Optical and Magnetic Materials (Q1); Energy (miscellaneous) (Q1); Materials Chemistry (Q1); Surfaces, Coatings and Films (Q1)                  |741e10d942b517e98712a97b1002ed885111855d|\n",
            "|6   |58530      |National vital statistics reports : from the Centers for Disease Control and Prevention, National Center for Health Statistics, National Vital Statistics System|journal|15518922, 15518930|28,083|Q1               |100    |12                |34                  |211        |1225                |34                    |36,00                |17,58      |United States |Northern America|Public Health Services, US Dept of Health and Human Services|1998-2020                            |Life-span and Life-course Studies (Q1)                                                                                                                                        |9913da90ab1b49e88adecd5049f901c5a2e04ac3|\n",
            "|7   |18434      |Cell                                                                                                                                                            |journal|00928674, 10974172|26,304|Q1               |776    |572               |1690                |35345      |52644               |1563                  |28,45                |61,79      |United States |Northern America|Cell Press                                                  |1974-2020                            |Biochemistry, Genetics and Molecular Biology (miscellaneous) (Q1)                                                                                                             |4607bc7c42ac8db29bfc2cd922416f6e854c18d1|\n",
            "|8   |18991      |Nature Reviews Genetics                                                                                                                                         |journal|14710056, 14710064|26,214|Q1               |365    |106               |325                 |7332       |6348                |149                   |21,22                |69,17      |United Kingdom|Western Europe  |Nature Publishing Group                                     |2000-2020                            |Genetics (Q1); Genetics (clinical) (Q1); Molecular Biology (Q1)                                                                                                               |61aa1d0513d3112d4d2d4299f64d323b648a2552|\n",
            "|9   |29719      |Reviews of Modern Physics                                                                                                                                       |journal|00346861, 15390756|24,877|Q1               |363    |34                |124                 |9662       |10251               |120                   |85,73                |284,18     |United States |Northern America|American Physical Society                                   |1929-2020                            |Physics and Astronomy (miscellaneous) (Q1)                                                                                                                                    |35477ecd70a2e9ce70bc0864872f3a582ea0060b|\n",
            "|10  |24404      |Journal of Political Economy                                                                                                                                    |journal|00223808, 1537534X|21,034|Q1               |186    |104               |217                 |5807       |1773                |176                   |8,70                 |55,84      |United States |Northern America|University of Chicago                                       |1969, 1973-1974, 1979-1985, 1987-2020|Economics and Econometrics (Q1)                                                                                                                                               |d5687a53d99d9fd018783bca1367418721dabdb7|\n",
            "|11  |21318      |Nature Reviews Immunology                                                                                                                                       |journal|14741741, 14741733|20,529|Q1               |390    |230               |436                 |9421       |8200                |202                   |17,33                |40,96      |United Kingdom|Western Europe  |Nature Publishing Group                                     |2001-2020                            |Immunology (Q1); Immunology and Allergy (Q1); Medicine (miscellaneous) (Q1)                                                                                                   |51f34e9a2dfb193d62477765958fc43ba20198ae|\n",
            "|12  |23340      |Chemical Reviews                                                                                                                                                |journal|15206890, 00092665|20,528|Q1               |700    |283               |738                 |115486     |41703               |703                   |53,93                |408,08     |United States |Northern America|American Chemical Society                                   |1924-2020                            |Chemistry (miscellaneous) (Q1)                                                                                                                                                |f2809cf9cdaefe72f34028972f64f20be488db41|\n",
            "|13  |71056      |MMWR. Surveillance summaries : Morbidity and mortality weekly report. Surveillance summaries / CDC                                                              |journal|15458636, 15460738|19,961|Q1               |100    |32                |48                  |499        |2235                |48                    |57,77                |15,59      |United States |Northern America|Centers for Disease Control and Prevention (CDC)            |2002-2020                            |Epidemiology (Q1); Health Information Management (Q1); Health (social science) (Q1); Health, Toxicology and Mutagenesis (Q1)                                                  |9cf460c3902a086c88329e0e5e0d1cc345a23b52|\n",
            "|14  |15847      |New England Journal of Medicine                                                                                                                                 |journal|00284793, 15334406|19,889|Q1               |1030   |1671              |4312                |15715      |82469               |1842                  |19,08                |9,40       |United States |Northern America|Massachussetts Medical Society                              |1945-2020                            |Medicine (miscellaneous) (Q1)                                                                                                                                                 |12b462ae25b56248849a06a7fe70a574e0c076a6|\n",
            "|15  |21100812579|Nature Energy                                                                                                                                                   |journal|20587546          |19,733|Q1               |129    |201               |602                 |5672       |15766               |384                   |25,94                |28,22      |United States |Northern America|Springer Nature                                             |2016-2020                            |Electronic, Optical and Magnetic Materials (Q1); Energy Engineering and Power Technology (Q1); Fuel Technology (Q1); Renewable Energy, Sustainability and the Environment (Q1)|bc65994debbb5d416589fe001f8201cb4723861a|\n",
            "|16  |12464      |Nature Reviews Cancer                                                                                                                                           |journal|1474175X, 14741768|19,575|Q1               |442    |85                |373                 |8894       |9077                |202                   |18,10                |104,64     |United Kingdom|Western Europe  |Nature Publishing Group                                     |2001-2020                            |Cancer Research (Q1); Oncology (Q1)                                                                                                                                           |5c149d286b9c8596f7bf57a3bcbaa1dfa9a79f60|\n",
            "|17  |15819      |Nature Medicine                                                                                                                                                 |journal|1546170X, 10788956|19,536|Q1               |547    |452               |953                 |10601      |22548               |664                   |23,52                |23,45      |United Kingdom|Western Europe  |Nature Publishing Group                                     |1995-2020                            |Biochemistry, Genetics and Molecular Biology (miscellaneous) (Q1); Medicine (miscellaneous) (Q1)                                                                              |8466af0f6cb88886fb72d2735e04caaa9f3b1272|\n",
            "|18  |21100778827|Nature Methods                                                                                                                                                  |journal|15487091, 15487105|19,469|Q1               |318    |331               |999                 |6602       |16032               |649                   |10,93                |19,95      |United Kingdom|Western Europe  |Nature Publishing Group                                     |2004-2020                            |Biochemistry (Q1); Biotechnology (Q1); Cell Biology (Q1); Molecular Biology (Q1)                                                                                              |9d11cf027bf06a9af41b56ab30c2a8cb2e5d50bd|\n",
            "|19  |18990      |Nature Genetics                                                                                                                                                 |journal|10614036, 15461718|18,861|Q1               |573    |189               |756                 |9059       |17158               |608                   |23,10                |47,93      |United Kingdom|Western Europe  |Nature Publishing Group                                     |1992-2020                            |Genetics (Q1)                                                                                                                                                                 |ea92a3bde53f8c845210a8d589cea5bb03b6e3aa|\n",
            "|20  |19900191906|Academy of Management Annals                                                                                                                                    |journal|19416520, 19416067|18,318|Q1               |73     |31                |76                  |7077       |1648                |75                    |16,43                |228,29     |United States |Northern America|Academy of Management                                       |2010-2020                            |Business and International Management (Q1); Organizational Behavior and Human Resource Management (Q1)                                                                        |33622ef2120ab55d5ae6fdfbf636c0f5c470ce82|\n",
            "+----+-----------+----------------------------------------------------------------------------------------------------------------------------------------------------------------+-------+------------------+------+-----------------+-------+------------------+--------------------+-----------+--------------------+----------------------+---------------------+-----------+--------------+----------------+------------------------------------------------------------+-------------------------------------+------------------------------------------------------------------------------------------------------------------------------------------------------------------------------+----------------------------------------+\n",
            "only showing top 20 rows\n",
            "\n"
          ]
        }
      ]
    },
    {
      "cell_type": "code",
      "source": [
        "jsc = jsc.withColumn('Full Journal Title', lower(jsc['Full Journal Title']))\n",
        "jsc = jsc.withColumn('Title_Hash', sha1(lower(jsc['Full Journal Title'])))\n",
        "jsc.show(truncate=False)"
      ],
      "metadata": {
        "colab": {
          "base_uri": "https://localhost:8080/"
        },
        "id": "AFriGsuoHr6k",
        "outputId": "1cdfc208-e9b5-4dd2-82ee-87d2d6e87e34"
      },
      "execution_count": 40,
      "outputs": [
        {
          "output_type": "stream",
          "name": "stdout",
          "text": [
            "+----+------------------------------------------------+-----------+----+---------------------+-----------------+----+----+----------------------------------------+\n",
            "|Rank|Full Journal Title                              |Total Cites|_c3 |Journal Impact Factor|Eigenfactor Score|_c6 |_c7 |Title_Hash                              |\n",
            "+----+------------------------------------------------+-----------+----+---------------------+-----------------+----+----+----------------------------------------+\n",
            "|1   |ca-a cancer journal for clinicians              |55,868     |null|508.702              |0.105140         |null|null|8baaabd0ff5fa35f17411380ad5728d74011870c|\n",
            "|2   |nature reviews molecular cell biology           |58,477     |null|94.444               |0.075480         |null|null|0543823fdbadf8093eb9e6aad44251d03d3c627e|\n",
            "|3   |new england journal of medicine                 |464,351    |null|91.245               |0.631180         |null|null|04f1786be8d2a3aa27752e400aec1f0fc3845d9f|\n",
            "|4   |nature reviews drug discovery                   |41,989     |null|84.694               |0.048220         |null|null|2a630931c0b8a64772d91cf6470fd25df2067f2f|\n",
            "|5   |lancet                                          |369,601    |null|79.321               |0.445240         |null|null|323e522fc84715a322e8dd35c426c7c6943522ad|\n",
            "|6   |nature reviews clinical oncology                |17,973     |null|66.675               |0.038760         |null|null|74e00cf662460294b4d2e944ff45af2855cd8e9e|\n",
            "|7   |nature reviews materials                        |19,887     |null|66.308               |0.056770         |null|null|4cd4bc15642e2eca5d5a7e260bcb71af16abd35b|\n",
            "|8   |nature energy                                   |28,166     |null|60.858               |0.080070         |null|null|d57a5d5828d120ebaa66f1a0d154781ca5506ac5|\n",
            "|9   |nature reviews cancer                           |62,391     |null|60.716               |0.059170         |null|null|e603c016e8716830c26659c54f5b26a11ffccf50|\n",
            "|10  |nature reviews microbiology                     |43,313     |null|60.633               |0.054150         |null|null|848162d9d0ee09fee9a91a8a4ff77091fb92e3eb|\n",
            "|11  |chemical reviews                                |224,417    |null|60.622               |0.216180         |null|null|bad652353bacc35a2a5b835838490d9886a5ee01|\n",
            "|12  |mmwr surveillance summaries                     |3,806      |null|58.769               |0.012980         |null|null|ccbed36f5d5224c146c0858f929fa568d000a65e|\n",
            "|13  |jama-journal of the american medical association|224,147    |null|56.272               |0.279750         |null|null|46612b941489571468efc7b857cb19d070a49020|\n",
            "|14  |mmwr recommendations and reports                |3,288      |null|55.857               |0.011230         |null|null|fb656b9e3755743e45da5e1f5437ac08d3600990|\n",
            "|15  |nature biotechnology                            |78,786     |null|54.908               |0.145670         |null|null|25a2093264b6ce7359c28689cd9a25fabd361d4b|\n",
            "|16  |chemical society reviews                        |173,170    |null|54.564               |0.176570         |null|null|6331a6cd7d7dbed2c76398e1b4d3b450275ce739|\n",
            "|17  |reviews of modern physics                       |58,097     |null|54.494               |0.045060         |null|null|d76bcd40cedff5e8383abcd9489618187f26c717|\n",
            "|18  |nature medicine                                 |114,401    |null|53.440               |0.184050         |null|null|66cc5374867fbc74024a4d7192111a45d5de5c05|\n",
            "|19  |nature reviews genetics                         |42,803     |null|53.242               |0.058930         |null|null|fd08ffcc81108c700535c514fb8c7ed7c5cc830a|\n",
            "|20  |nature reviews immunology                       |55,784     |null|53.106               |0.063920         |null|null|b58492749b7747d4cca29075e2a7bae3bbc999f8|\n",
            "+----+------------------------------------------------+-----------+----+---------------------+-----------------+----+----+----------------------------------------+\n",
            "only showing top 20 rows\n",
            "\n"
          ]
        }
      ]
    },
    {
      "cell_type": "code",
      "source": [
        "arquivo_bib = arquivo_bib.withColumn('issn', regexp_replace('issn','-', ''))"
      ],
      "metadata": {
        "id": "QZtNUC1sIKK7"
      },
      "execution_count": 41,
      "outputs": []
    },
    {
      "cell_type": "code",
      "source": [
        "arquivo_bib.show()"
      ],
      "metadata": {
        "colab": {
          "base_uri": "https://localhost:8080/"
        },
        "id": "7W-xQ5K7Om3l",
        "outputId": "9dd23488-8694-4d82-db62-e74a1da4aa82"
      },
      "execution_count": 42,
      "outputs": [
        {
          "output_type": "stream",
          "name": "stdout",
          "text": [
            "+---+--------------------+-----------------+--------------------+--------+--------------+--------------------+-----+------+--------+---------+--------------------+--------------------+--------------------+------+----+--------------------+-------------+--------------------+--------------------+----------+---------+----+-------+----------------+--------------------+\n",
            "|_c0|            abstract|          address|                 doi|    issn|    issue_date|             journal|month|number|numpages|    pages|           publisher|               title|                 url|volume|year|           booktitle|         isbn|            keywords|            location|    series|articleno|note|edition|type_publication|              author|\n",
            "+---+--------------------+-----------------+--------------------+--------+--------------+--------------------+-----+------+--------+---------+--------------------+--------------------+--------------------+------+----+--------------------+-------------+--------------------+--------------------+----------+---------+----+-------+----------------+--------------------+\n",
            "|  0|Cyber-physical sy...|New York, NY, USA|10.1145/3502771.3...|01635948|  January 2022|SIGSOFT Softw. En...|  jan|     1|       4|    26–29|Association for C...|Software Engineer...|https://doi.org/1...|    47|2022|                null|         null|                ['']|                null|      null|     null|null|   null|         article|['Nguyen, Phu', '...|\n",
            "|  1|For big data, dat...|New York, NY, USA|10.1145/2935694.2...|01635808| December 2015|         SIGMOD Rec.|  may|     4|       6|    35–40|Association for C...|Cleanix: A Parall...|https://doi.org/1...|    44|2016|                null|         null|                ['']|                null|      null|     null|null|   null|         article|['Wang, Hongzhi',...|\n",
            "|  2|\"Current big data...|New York, NY, USA|10.1145/2627770.2...|    null|          null|                null| null|  null|       4|      1–4|Association for C...|\"\"\"Big Metadata\"\"...|https://doi.org/1...|  null|2014|Proceedings of Wo...|9781450329972|['Big data analyt...|   Snowbird, UT, USA|  DanaC'14|     null|null|   null|   inproceedings|['Smith, Ken', 'S...|\n",
            "|  3|                null|New York, NY, USA|     10.1145/3005395|19361955| November 2016|J. Data and Infor...|  nov|     1|       3|     null|Association for C...|Editorial: Specia...|https://doi.org/1...|     8|2016|                null|         null|                ['']|                null|      null|        1|null|   null|         article|['Bizer, Christia...|\n",
            "|  4|Data cleansing ap...|New York, NY, USA|10.1145/2723372.2...|    null|          null|                null| null|  null|      16|1215–1230|Association for C...|BigDansing: A Sys...|https://doi.org/1...|  null|2015|Proceedings of th...|9781450327589|['distributed dat...|Melbourne, Victor...|SIGMOD '15|     null|null|   null|   inproceedings|\"['Khayyat, Zuhai...|\n",
            "|  5|We overview CiteS...|New York, NY, USA|10.1145/3359115.3...|    null|          null|                null| null|  null|       4|     null|Association for C...|CiteSeerX: 20 Yea...|https://doi.org/1...|  null|2019|Proceedings of th...|9781450371841|['scholarly big d...|Pittsburgh, Penns...|  AIDR '19|        1|null|   null|   inproceedings|['Wu, Jian', 'Kim...|\n",
            "|  6|Data quality asse...|             null|10.14778/3503585....|21508097| December 2021|   Proc. VLDB Endow.|  apr|     4|       9|  949–957|      VLDB Endowment|DQDF: Data-Qualit...|https://doi.org/1...|    15|2022|                null|         null|                ['']|                null|      null|     null|null|   null|         article|['Sinthong, Phanw...|\n",
            "|  7|Under the backgro...|New York, NY, USA|10.1145/3495018.3...|    null|          null|                null| null|  null|       4|2605–2608|Association for C...|Computer Assisted...|https://doi.org/1...|  null|2022|2021 3rd Internat...|9781450385046|                ['']|Manchester, Unite...|  AIAM2021|     null|null|   null|   inproceedings|       ['Tang, Yan']|\n",
            "|  8|Simulation of Sup...|             null|                null|    null|          null|                null| null|  null|      12|  548–559|          IEEE Press|Real-Time Supply ...|                null|  null|2020|Proceedings of th...|9781728132839|                ['']|National Harbor, ...|   WSC '19|     null|null|   null|   inproceedings|\"[\"\"Vieira, Ant\\\\...|\n",
            "|  9|Data mining is an...|New York, NY, USA|10.1145/3291801.3...|    null|          null|                null| null|  null|       4|    86–89|Association for C...|Application of La...|https://doi.org/1...|  null|2018|Proceedings of th...|9781450364768|['college student...|       Weihai, China|ICBDR 2018|     null|null|   null|   inproceedings|      ['Deze, Wang']|\n",
            "| 10|                null|New York, NY, USA|     10.1145/3174791|19361955|September 2017|J. Data and Infor...|  mar|     3|       2|     null|Association for C...|Editorial: Specia...|https://doi.org/1...|     9|2018|                null|         null|                ['']|                null|      null|       13|null|   null|         article|['Geerts, Floris'...|\n",
            "| 11|                null|New York, NY, USA|     10.1145/3423321|19361955| December 2020|J. Data and Infor...|  oct|     4|       2|     null|Association for C...|Editorial: Specia...|https://doi.org/1...|    12|2020|                null|         null|                ['']|                null|      null|       17|null|   null|         article|['Polese, Giusepp...|\n",
            "| 12|We are inundated ...|New York, NY, USA|10.1145/3010089.3...|    null|          null|                null| null|  null|      11|     null|Association for C...|TAF: Temporal Ana...|https://doi.org/1...|  null|2016|Proceedings of th...|9781450347792|['Real-Time Analy...|Blagoevgrad, Bulg...|  BDAW '16|       10|null|   null|   inproceedings|['Sindhu, C.', 'H...|\n",
            "| 13|\"Credit risk is o...|New York, NY, USA|10.1145/3386723.3...|    null|          null|                null| null|  null|       7|     null|Association for C...|CSMAS: Improving ...|https://doi.org/1...|  null|2020|Proceedings of th...|9781450376341|['XgBoost, Credit...|  Marrakech, Morocco|  NISS2020|       32|null|   null|   inproceedings|['Tounsi, Youssef...|\n",
            "| 14|As the Internet-o...|             null|10.14778/3137765....|21508097|   August 2017|   Proc. VLDB Endow.|  aug|    12|      12|1766–1777|      VLDB Endowment|CarStream: An Ind...|https://doi.org/1...|    10|2017|                null|         null|                ['']|                null|      null|     null|null|   null|         article|['Zhang, Mingming...|\n",
            "| 15|In Big data era, ...|New York, NY, USA|10.1145/3090354.3...|    null|          null|                null| null|  null|       7|     null|Association for C...|Data Collect Requ...|https://doi.org/1...|  null|2017|Proceedings of th...|9781450348522|['Collect system,...|    Tetouan, Morocco|   BDCA'17|        4|null|   null|   inproceedings|['Tikito, I.', 'S...|\n",
            "| 16|With the developm...|New York, NY, USA|10.1145/3561801.3...|    null|          null|                null| null|  null|       5|    77–81|Association for C...|A Data Cleaning M...|https://doi.org/1...|  null|2022|Proceedings of th...|9781450390361|['Data cleaning. ...|    Chongqing, China| BDIOT '22|     null|null|   null|   inproceedings|['Zhang, Cheng', ...|\n",
            "| 17|Most existing sys...|New York, NY, USA|10.1145/3220199.3...|    null|          null|                null| null|  null|       6|    38–43|Association for C...|Multi: Source Dat...|https://doi.org/1...|  null|2018|Proceedings of th...|9781450364263|['Data quality, D...|     Shenzhen, China| ICBDC '18|     null|null|   null|   inproceedings|['Xie, Dingding',...|\n",
            "| 18|As massive data a...|             null|10.14778/1687553....|21508097|   August 2009|   Proc. VLDB Endow.|  aug|     2|      12|1481–1492|      VLDB Endowment|MAD Skills: New A...|https://doi.org/1...|     2|2009|                null|         null|                ['']|                null|      null|     null|null|   null|         article|['Cohen, Jeffrey'...|\n",
            "| 19|                null|New York, NY, USA|10.1145/2767109.2...|    null|          null|                null| null|  null|       5|      1–5|Association for C...|The Elephant in t...|https://doi.org/1...|  null|2015|Proceedings of th...|9781450336277|                ['']|Melbourne, VIC, A...|  WebDB'15|     null|null|   null|   inproceedings|['Abiteboul, Serg...|\n",
            "+---+--------------------+-----------------+--------------------+--------+--------------+--------------------+-----+------+--------+---------+--------------------+--------------------+--------------------+------+----+--------------------+-------------+--------------------+--------------------+----------+---------+----+-------+----------------+--------------------+\n",
            "only showing top 20 rows\n",
            "\n"
          ]
        }
      ]
    },
    {
      "cell_type": "code",
      "source": [
        "arquivo_bib.count()"
      ],
      "metadata": {
        "colab": {
          "base_uri": "https://localhost:8080/"
        },
        "id": "rblyFVgqWDhw",
        "outputId": "9ac4064c-c6b2-4cf5-c9b5-b2b9b2fe9ac7"
      },
      "execution_count": 43,
      "outputs": [
        {
          "output_type": "execute_result",
          "data": {
            "text/plain": [
              "6031"
            ]
          },
          "metadata": {},
          "execution_count": 43
        }
      ]
    },
    {
      "cell_type": "code",
      "source": [
        "scimagojr = scimagojr.withColumn('issn', explode(split(scimagojr.Issn, \",\")))"
      ],
      "metadata": {
        "id": "cvT1LdUCSJCV"
      },
      "execution_count": 44,
      "outputs": []
    },
    {
      "cell_type": "code",
      "source": [
        "scimagojr.show()"
      ],
      "metadata": {
        "colab": {
          "base_uri": "https://localhost:8080/"
        },
        "id": "XLlxRZGYStWs",
        "outputId": "bb95d617-b811-4385-a86a-64ded416e434"
      },
      "execution_count": 45,
      "outputs": [
        {
          "output_type": "stream",
          "name": "stdout",
          "text": [
            "+----+-----------+--------------------+-------+---------+------+-----------------+-------+------------------+--------------------+-----------+--------------------+----------------------+---------------------+-----------+--------------+----------------+--------------------+--------------------+--------------------+--------------------+\n",
            "|Rank|   Sourceid|               Title|   Type|     issn|   SJR|SJR Best Quartile|H index|Total Docs. (2020)|Total Docs. (3years)|Total Refs.|Total Cites (3years)|Citable Docs. (3years)|Cites / Doc. (2years)|Ref. / Doc.|       Country|          Region|           Publisher|            Coverage|          Categories|          Title_Hash|\n",
            "+----+-----------+--------------------+-------+---------+------+-----------------+-------+------------------+--------------------+-----------+--------------------+----------------------+---------------------+-----------+--------------+----------------+--------------------+--------------------+--------------------+--------------------+\n",
            "|   1|      28773|Ca-A Cancer Journ...|journal| 15424863|62,937|               Q1|    168|                47|                 119|       3452|               15499|                    80|               126,34|      73,45| United States|Northern America|     Wiley-Blackwell|           1950-2020|Hematology (Q1); ...|d19cdd0a0f594babb...|\n",
            "|   1|      28773|Ca-A Cancer Journ...|journal| 00079235|62,937|               Q1|    168|                47|                 119|       3452|               15499|                    80|               126,34|      73,45| United States|Northern America|     Wiley-Blackwell|           1950-2020|Hematology (Q1); ...|d19cdd0a0f594babb...|\n",
            "|   2|      19434|MMWR Recommendati...|journal| 10575987|40,949|               Q1|    143|                10|                   9|       1292|                 492|                     9|                50,00|     129,20| United States|Northern America|Centers for Disea...|           1990-2020|Epidemiology (Q1)...|02da9ae28b6ef3afb...|\n",
            "|   2|      19434|MMWR Recommendati...|journal| 15458601|40,949|               Q1|    143|                10|                   9|       1292|                 492|                     9|                50,00|     129,20| United States|Northern America|Centers for Disea...|           1990-2020|Epidemiology (Q1)...|02da9ae28b6ef3afb...|\n",
            "|   3|      20315|Nature Reviews Mo...|journal| 14710072|37,461|               Q1|    431|               115|                 338|       8439|               10844|                   167|                32,83|      73,38|United Kingdom|  Western Europe|Nature Publishing...|           2000-2020|Cell Biology (Q1)...|a250b32f115cc40e9...|\n",
            "|   3|      20315|Nature Reviews Mo...|journal| 14710080|37,461|               Q1|    431|               115|                 338|       8439|               10844|                   167|                32,83|      73,38|United Kingdom|  Western Europe|Nature Publishing...|           2000-2020|Cell Biology (Q1)...|a250b32f115cc40e9...|\n",
            "|   4|      29431|Quarterly Journal...|journal| 00335533|34,573|               Q1|    259|                40|                 110|       2733|                1945|                   109|                16,00|      68,33|United Kingdom|  Western Europe|Oxford University...|           1886-2020|Economics and Eco...|91c44972ee06cff12...|\n",
            "|   4|      29431|Quarterly Journal...|journal| 15314650|34,573|               Q1|    259|                40|                 110|       2733|                1945|                   109|                16,00|      68,33|United Kingdom|  Western Europe|Oxford University...|           1886-2020|Economics and Eco...|91c44972ee06cff12...|\n",
            "|   5|21100812243|Nature Reviews Ma...|journal| 20588437|32,011|               Q1|    108|                92|                 264|      10632|               11188|                   138|                32,15|     115,57|United Kingdom|  Western Europe|Nature Publishing...|           2016-2020|Biomaterials (Q1)...|741e10d942b517e98...|\n",
            "|   6|      58530|National vital st...|journal| 15518922|28,083|               Q1|    100|                12|                  34|        211|                1225|                    34|                36,00|      17,58| United States|Northern America|Public Health Ser...|           1998-2020|Life-span and Lif...|9913da90ab1b49e88...|\n",
            "|   6|      58530|National vital st...|journal| 15518930|28,083|               Q1|    100|                12|                  34|        211|                1225|                    34|                36,00|      17,58| United States|Northern America|Public Health Ser...|           1998-2020|Life-span and Lif...|9913da90ab1b49e88...|\n",
            "|   7|      18434|                Cell|journal| 00928674|26,304|               Q1|    776|               572|                1690|      35345|               52644|                  1563|                28,45|      61,79| United States|Northern America|          Cell Press|           1974-2020|Biochemistry, Gen...|4607bc7c42ac8db29...|\n",
            "|   7|      18434|                Cell|journal| 10974172|26,304|               Q1|    776|               572|                1690|      35345|               52644|                  1563|                28,45|      61,79| United States|Northern America|          Cell Press|           1974-2020|Biochemistry, Gen...|4607bc7c42ac8db29...|\n",
            "|   8|      18991|Nature Reviews Ge...|journal| 14710056|26,214|               Q1|    365|               106|                 325|       7332|                6348|                   149|                21,22|      69,17|United Kingdom|  Western Europe|Nature Publishing...|           2000-2020|Genetics (Q1); Ge...|61aa1d0513d3112d4...|\n",
            "|   8|      18991|Nature Reviews Ge...|journal| 14710064|26,214|               Q1|    365|               106|                 325|       7332|                6348|                   149|                21,22|      69,17|United Kingdom|  Western Europe|Nature Publishing...|           2000-2020|Genetics (Q1); Ge...|61aa1d0513d3112d4...|\n",
            "|   9|      29719|Reviews of Modern...|journal| 00346861|24,877|               Q1|    363|                34|                 124|       9662|               10251|                   120|                85,73|     284,18| United States|Northern America|American Physical...|           1929-2020|Physics and Astro...|35477ecd70a2e9ce7...|\n",
            "|   9|      29719|Reviews of Modern...|journal| 15390756|24,877|               Q1|    363|                34|                 124|       9662|               10251|                   120|                85,73|     284,18| United States|Northern America|American Physical...|           1929-2020|Physics and Astro...|35477ecd70a2e9ce7...|\n",
            "|  10|      24404|Journal of Politi...|journal| 00223808|21,034|               Q1|    186|               104|                 217|       5807|                1773|                   176|                 8,70|      55,84| United States|Northern America|University of Chi...|1969, 1973-1974, ...|Economics and Eco...|d5687a53d99d9fd01...|\n",
            "|  10|      24404|Journal of Politi...|journal| 1537534X|21,034|               Q1|    186|               104|                 217|       5807|                1773|                   176|                 8,70|      55,84| United States|Northern America|University of Chi...|1969, 1973-1974, ...|Economics and Eco...|d5687a53d99d9fd01...|\n",
            "|  11|      21318|Nature Reviews Im...|journal| 14741741|20,529|               Q1|    390|               230|                 436|       9421|                8200|                   202|                17,33|      40,96|United Kingdom|  Western Europe|Nature Publishing...|           2001-2020|Immunology (Q1); ...|51f34e9a2dfb193d6...|\n",
            "+----+-----------+--------------------+-------+---------+------+-----------------+-------+------------------+--------------------+-----------+--------------------+----------------------+---------------------+-----------+--------------+----------------+--------------------+--------------------+--------------------+--------------------+\n",
            "only showing top 20 rows\n",
            "\n"
          ]
        }
      ]
    },
    {
      "cell_type": "markdown",
      "source": [
        "#Join das bases envolvidas"
      ],
      "metadata": {
        "id": "dIZxmLn6Tsz8"
      }
    },
    {
      "cell_type": "code",
      "source": [
        "dfjournalrank = jsc.join(scimagojr, on='Title_Hash', how='outer')"
      ],
      "metadata": {
        "id": "0OwL5Xr0TsLo"
      },
      "execution_count": 48,
      "outputs": []
    },
    {
      "cell_type": "code",
      "source": [
        "df_join_bibtex_csv = arquivo_bib.join(dfjournalrank, on='issn', how='left')"
      ],
      "metadata": {
        "id": "Wgq-wXW0b0fr"
      },
      "execution_count": 49,
      "outputs": []
    },
    {
      "cell_type": "markdown",
      "source": [
        "# Drop colunas que não são necessárias "
      ],
      "metadata": {
        "id": "JcSbW7czdXUr"
      }
    },
    {
      "cell_type": "code",
      "source": [
        "df_join_bibtex_csv.columns"
      ],
      "metadata": {
        "colab": {
          "base_uri": "https://localhost:8080/"
        },
        "id": "MsYWjaLGfXUX",
        "outputId": "ebd978bd-ec54-4626-ff99-17903549d0f3"
      },
      "execution_count": 59,
      "outputs": [
        {
          "output_type": "execute_result",
          "data": {
            "text/plain": [
              "['issn',\n",
              " 'abstract',\n",
              " 'address',\n",
              " 'doi',\n",
              " 'issue_date',\n",
              " 'journal',\n",
              " 'month',\n",
              " 'number',\n",
              " 'numpages',\n",
              " 'pages',\n",
              " 'url',\n",
              " 'volume',\n",
              " 'year',\n",
              " 'booktitle',\n",
              " 'isbn',\n",
              " 'keywords',\n",
              " 'location',\n",
              " 'series',\n",
              " 'articleno',\n",
              " 'note',\n",
              " 'edition',\n",
              " 'type_publication',\n",
              " 'author',\n",
              " 'Title_Hash',\n",
              " 'Full Journal Title',\n",
              " 'Total Cites',\n",
              " 'Journal Impact Factor',\n",
              " 'Eigenfactor Score',\n",
              " 'Sourceid',\n",
              " 'Type',\n",
              " 'SJR',\n",
              " 'SJR Best Quartile',\n",
              " 'H index',\n",
              " 'Total Docs. (2020)',\n",
              " 'Total Docs. (3years)',\n",
              " 'Total Refs.',\n",
              " 'Total Cites (3years)',\n",
              " 'Citable Docs. (3years)',\n",
              " 'Cites / Doc. (2years)',\n",
              " 'Ref. / Doc.',\n",
              " 'Country',\n",
              " 'Region',\n",
              " 'Coverage',\n",
              " 'Categories']"
            ]
          },
          "metadata": {},
          "execution_count": 59
        }
      ]
    },
    {
      "cell_type": "code",
      "source": [
        "columns = ['_c0','Rank','title', '_c3', '_c7', '_c6', 'publisher']\n",
        "df_join_bibtex_csv = df_join_bibtex_csv.drop(*(columns))\n"
      ],
      "metadata": {
        "id": "_DoV11ycdWC_"
      },
      "execution_count": 58,
      "outputs": []
    },
    {
      "cell_type": "markdown",
      "source": [
        "# Escrita do resultado em csv"
      ],
      "metadata": {
        "id": "Uv7EAOYXc-2H"
      }
    },
    {
      "cell_type": "code",
      "source": [
        "df_join_bibtex_csv.write.csv('/content/drive/MyDrive/Trabalho_Pyspark/resultado_pyspark.csv')\n"
      ],
      "metadata": {
        "id": "QIUzKfo-c-M2"
      },
      "execution_count": 56,
      "outputs": []
    }
  ]
}